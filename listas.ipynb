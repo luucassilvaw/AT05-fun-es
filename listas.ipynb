{
  "nbformat": 4,
  "nbformat_minor": 0,
  "metadata": {
    "colab": {
      "provenance": []
    },
    "kernelspec": {
      "name": "python3",
      "display_name": "Python 3"
    },
    "language_info": {
      "name": "python"
    }
  },
  "cells": [
    {
      "cell_type": "code",
      "execution_count": 1,
      "metadata": {
        "colab": {
          "base_uri": "https://localhost:8080/"
        },
        "id": "0rdjBrXnGY95",
        "outputId": "f5af652a-1b6a-4ae6-e420-9e823563caeb"
      },
      "outputs": [
        {
          "output_type": "stream",
          "name": "stdout",
          "text": [
            "Maior valor: 96\n",
            "Menor valor: 3\n",
            "Soma dos valores: 2606\n",
            "Valor absoluto de -25: 25\n",
            "Arredondamento de 3.14159: 3.14\n",
            "Média: 48.25925925925926\n",
            "Mediana: 49.0\n",
            "Moda: 11\n",
            "Variância: 741.1013277428372\n",
            "Desvio padrão: 27.223176297831913\n"
          ]
        }
      ],
      "source": [
        "import statistics\n",
        "\n",
        "def calcula_imc(peso=70, altura=1.75):\n",
        "    return peso / (altura ** 2)\n",
        "\n",
        "alturas = [45, 23, 67, 12, 11, 89, 23, 41, 50, 62, 78, 34, 56, 19, 72, 88,\n",
        "           11, 90, 39, 65, 76, 27, 48, 59, 81, 14, 11, 93, 3, 68, 29, 52,\n",
        "           74, 16, 85, 20, 55, 38, 69, 11, 83, 7, 44, 61, 18, 96, 22, 58,\n",
        "           31, 71, 40, 53, 87, 31]\n",
        "\n",
        "print(\"Maior valor:\", max(alturas))\n",
        "print(\"Menor valor:\", min(alturas))\n",
        "print(\"Soma dos valores:\", sum(alturas))\n",
        "print(\"Valor absoluto de -25:\", abs(-25))\n",
        "print(\"Arredondamento de 3.14159:\", round(3.14159, 2))\n",
        "\n",
        "print(\"Média:\", statistics.mean(alturas))\n",
        "print(\"Mediana:\", statistics.median(alturas))\n",
        "print(\"Moda:\", statistics.mode(alturas))\n",
        "print(\"Variância:\", statistics.variance(alturas))\n",
        "print(\"Desvio padrão:\", statistics.stdev(alturas))\n"
      ]
    }
  ]
}